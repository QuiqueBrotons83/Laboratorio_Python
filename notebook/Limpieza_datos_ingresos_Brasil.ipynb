{
 "cells": [
  {
   "cell_type": "markdown",
   "metadata": {},
   "source": [
    "### En este Jupyter voy a cargar los datos y voy a realizar la limpieza de los datos y su posterior analisis."
   ]
  },
  {
   "cell_type": "code",
   "execution_count": 2,
   "metadata": {},
   "outputs": [],
   "source": [
    "# Cargamos las librerias.\n",
    "import pandas as pd\n",
    "import numpy as np\n"
   ]
  },
  {
   "cell_type": "code",
   "execution_count": 3,
   "metadata": {},
   "outputs": [
    {
     "data": {
      "text/html": [
       "<div>\n",
       "<style scoped>\n",
       "    .dataframe tbody tr th:only-of-type {\n",
       "        vertical-align: middle;\n",
       "    }\n",
       "\n",
       "    .dataframe tbody tr th {\n",
       "        vertical-align: top;\n",
       "    }\n",
       "\n",
       "    .dataframe thead th {\n",
       "        text-align: right;\n",
       "    }\n",
       "</style>\n",
       "<table border=\"1\" class=\"dataframe\">\n",
       "  <thead>\n",
       "    <tr style=\"text-align: right;\">\n",
       "      <th></th>\n",
       "      <th>CODIGO ORGANO SUPERIOR</th>\n",
       "      <th>NOMBRE ORGANO SUPERIOR</th>\n",
       "      <th>CODIGO ORGANO</th>\n",
       "      <th>NOMBRE ORGANO</th>\n",
       "      <th>CODIGO UNIDAD GESTORA</th>\n",
       "      <th>NOMBRE UNIDAD GESTORA</th>\n",
       "      <th>CATEGORIA ECONOMICA</th>\n",
       "      <th>ORIGEN INGRESO</th>\n",
       "      <th>TIPO INGRESO</th>\n",
       "      <th>DETALLE</th>\n",
       "      <th>VALOR PREVISTO ACTUALIZADO</th>\n",
       "      <th>VALOR REGISTRADO</th>\n",
       "      <th>VALOR REALIZADO</th>\n",
       "      <th>PORCENTAJE REALIZADO</th>\n",
       "      <th>FECHA REGISTRO</th>\n",
       "      <th>AÑO EJERCICIO</th>\n",
       "    </tr>\n",
       "  </thead>\n",
       "  <tbody>\n",
       "    <tr>\n",
       "      <th>0</th>\n",
       "      <td>63000</td>\n",
       "      <td>Advocacia-Geral da União</td>\n",
       "      <td>63000</td>\n",
       "      <td>Advocacia-Geral da União - Unidades com víncul...</td>\n",
       "      <td>110060</td>\n",
       "      <td>COORD. GERAL DE ORC. FIN. E ANAL. CONT. - AGU</td>\n",
       "      <td>Receitas Correntes</td>\n",
       "      <td>Outras Receitas Correntes</td>\n",
       "      <td>Bens, Direitos e Valores Incorporados ao Patr</td>\n",
       "      <td>REC.DIVIDA ATIVA NAO TRIBUTARIA DE OUTRAS REC</td>\n",
       "      <td>0,00</td>\n",
       "      <td>0,00</td>\n",
       "      <td>1297,13</td>\n",
       "      <td>0,00</td>\n",
       "      <td>2013-12-31 00:00:00</td>\n",
       "      <td>2013</td>\n",
       "    </tr>\n",
       "    <tr>\n",
       "      <th>1</th>\n",
       "      <td>63000</td>\n",
       "      <td>Advocacia-Geral da União</td>\n",
       "      <td>63000</td>\n",
       "      <td>Advocacia-Geral da União - Unidades com víncul...</td>\n",
       "      <td>110060</td>\n",
       "      <td>COORD. GERAL DE ORC. FIN. E ANAL. CONT. - AGU</td>\n",
       "      <td>Receitas Correntes</td>\n",
       "      <td>Outras Receitas Correntes</td>\n",
       "      <td>Indenizações, restituições e ressarcimentos</td>\n",
       "      <td>RECUPERACAO DE DESPESAS DE EXERC. ANTERIORES</td>\n",
       "      <td>0,00</td>\n",
       "      <td>0,00</td>\n",
       "      <td>26666621,42</td>\n",
       "      <td>0,00</td>\n",
       "      <td>2013-12-31 00:00:00</td>\n",
       "      <td>2013</td>\n",
       "    </tr>\n",
       "    <tr>\n",
       "      <th>2</th>\n",
       "      <td>63000</td>\n",
       "      <td>Advocacia-Geral da União</td>\n",
       "      <td>63000</td>\n",
       "      <td>Advocacia-Geral da União - Unidades com víncul...</td>\n",
       "      <td>110060</td>\n",
       "      <td>COORD. GERAL DE ORC. FIN. E ANAL. CONT. - AGU</td>\n",
       "      <td>Receitas Correntes</td>\n",
       "      <td>Outras Receitas Correntes</td>\n",
       "      <td>Multas administrativas, contratuais e judicia</td>\n",
       "      <td>OUTRAS MULTAS E JUROS DE MORA</td>\n",
       "      <td>0,00</td>\n",
       "      <td>0,00</td>\n",
       "      <td>301251,13</td>\n",
       "      <td>0,00</td>\n",
       "      <td>2013-12-31 00:00:00</td>\n",
       "      <td>2013</td>\n",
       "    </tr>\n",
       "    <tr>\n",
       "      <th>3</th>\n",
       "      <td>63000</td>\n",
       "      <td>Advocacia-Geral da União</td>\n",
       "      <td>63000</td>\n",
       "      <td>Advocacia-Geral da União - Unidades com víncul...</td>\n",
       "      <td>110060</td>\n",
       "      <td>COORD. GERAL DE ORC. FIN. E ANAL. CONT. - AGU</td>\n",
       "      <td>Receitas Correntes</td>\n",
       "      <td>Outras Receitas Correntes</td>\n",
       "      <td>Bens, Direitos e Valores Incorporados ao Patr</td>\n",
       "      <td>REC.DIV.ATIVA POR INFRAÇÃO ADMINISTRATIVA</td>\n",
       "      <td>0,00</td>\n",
       "      <td>0,00</td>\n",
       "      <td>1855,58</td>\n",
       "      <td>0,00</td>\n",
       "      <td>2013-12-31 00:00:00</td>\n",
       "      <td>2013</td>\n",
       "    </tr>\n",
       "    <tr>\n",
       "      <th>4</th>\n",
       "      <td>63000</td>\n",
       "      <td>Advocacia-Geral da União</td>\n",
       "      <td>63000</td>\n",
       "      <td>Advocacia-Geral da União - Unidades com víncul...</td>\n",
       "      <td>110060</td>\n",
       "      <td>COORD. GERAL DE ORC. FIN. E ANAL. CONT. - AGU</td>\n",
       "      <td>Receitas Correntes</td>\n",
       "      <td>Outras Receitas Correntes</td>\n",
       "      <td>Indenizações, restituições e ressarcimentos</td>\n",
       "      <td>OUTRAS RESTITUICOES</td>\n",
       "      <td>0,00</td>\n",
       "      <td>0,00</td>\n",
       "      <td>52140,68</td>\n",
       "      <td>0,00</td>\n",
       "      <td>2013-12-31 00:00:00</td>\n",
       "      <td>2013</td>\n",
       "    </tr>\n",
       "    <tr>\n",
       "      <th>...</th>\n",
       "      <td>...</td>\n",
       "      <td>...</td>\n",
       "      <td>...</td>\n",
       "      <td>...</td>\n",
       "      <td>...</td>\n",
       "      <td>...</td>\n",
       "      <td>...</td>\n",
       "      <td>...</td>\n",
       "      <td>...</td>\n",
       "      <td>...</td>\n",
       "      <td>...</td>\n",
       "      <td>...</td>\n",
       "      <td>...</td>\n",
       "      <td>...</td>\n",
       "      <td>...</td>\n",
       "      <td>...</td>\n",
       "    </tr>\n",
       "    <tr>\n",
       "      <th>1026294</th>\n",
       "      <td>20000</td>\n",
       "      <td>Presidência da República</td>\n",
       "      <td>24208</td>\n",
       "      <td>Instituto Nacional de Tecnologia da Informação</td>\n",
       "      <td>243001</td>\n",
       "      <td>INSTITUTO NAC.DE TECNOLOGIA DA INFORMACAO ITI</td>\n",
       "      <td>Receitas de Capital</td>\n",
       "      <td>Operações de Crédito</td>\n",
       "      <td>Operações de crédito - mercado interno</td>\n",
       "      <td>TITULOS DE RESPONS.TES.NAC.-MERC.INT.-PRINC.</td>\n",
       "      <td>16940891,00</td>\n",
       "      <td>0,00</td>\n",
       "      <td>0,00</td>\n",
       "      <td>0,00</td>\n",
       "      <td>23/04/2021</td>\n",
       "      <td>2021</td>\n",
       "    </tr>\n",
       "    <tr>\n",
       "      <th>1026295</th>\n",
       "      <td>20000</td>\n",
       "      <td>Presidência da República</td>\n",
       "      <td>24208</td>\n",
       "      <td>Instituto Nacional de Tecnologia da Informação</td>\n",
       "      <td>243001</td>\n",
       "      <td>INSTITUTO NAC.DE TECNOLOGIA DA INFORMACAO ITI</td>\n",
       "      <td>Receitas Correntes</td>\n",
       "      <td>Receita de Serviços</td>\n",
       "      <td>Serviços Administrativos e Comerciais Gerais</td>\n",
       "      <td>SERV.DE REGIST.,CERTIF.E FISCALIZ.-PRINCIPAL</td>\n",
       "      <td>0,00</td>\n",
       "      <td>0,00</td>\n",
       "      <td>372,90</td>\n",
       "      <td>0,00</td>\n",
       "      <td>22/11/2021</td>\n",
       "      <td>2021</td>\n",
       "    </tr>\n",
       "    <tr>\n",
       "      <th>1026296</th>\n",
       "      <td>20000</td>\n",
       "      <td>Presidência da República</td>\n",
       "      <td>24208</td>\n",
       "      <td>Instituto Nacional de Tecnologia da Informação</td>\n",
       "      <td>243001</td>\n",
       "      <td>INSTITUTO NAC.DE TECNOLOGIA DA INFORMACAO ITI</td>\n",
       "      <td>Receitas Correntes</td>\n",
       "      <td>Receita de Serviços</td>\n",
       "      <td>Serviços Administrativos e Comerciais Gerais</td>\n",
       "      <td>SERV.DE REGIST.,CERTIF.E FISCALIZ.-PRINCIPAL</td>\n",
       "      <td>200000,00</td>\n",
       "      <td>0,00</td>\n",
       "      <td>0,00</td>\n",
       "      <td>0,00</td>\n",
       "      <td>23/04/2021</td>\n",
       "      <td>2021</td>\n",
       "    </tr>\n",
       "    <tr>\n",
       "      <th>1026297</th>\n",
       "      <td>20000</td>\n",
       "      <td>Presidência da República</td>\n",
       "      <td>24208</td>\n",
       "      <td>Instituto Nacional de Tecnologia da Informação</td>\n",
       "      <td>243001</td>\n",
       "      <td>INSTITUTO NAC.DE TECNOLOGIA DA INFORMACAO ITI</td>\n",
       "      <td>Receitas Correntes</td>\n",
       "      <td>Receita de Serviços</td>\n",
       "      <td>Serviços Administrativos e Comerciais Gerais</td>\n",
       "      <td>SERV.DE REGIST.,CERTIF.E FISCALIZ.-PRINCIPAL</td>\n",
       "      <td>0,00</td>\n",
       "      <td>0,00</td>\n",
       "      <td>1000000,00</td>\n",
       "      <td>0,00</td>\n",
       "      <td>10/05/2021</td>\n",
       "      <td>2021</td>\n",
       "    </tr>\n",
       "    <tr>\n",
       "      <th>1026298</th>\n",
       "      <td>20000</td>\n",
       "      <td>Presidência da República</td>\n",
       "      <td>24208</td>\n",
       "      <td>Instituto Nacional de Tecnologia da Informação</td>\n",
       "      <td>243001</td>\n",
       "      <td>INSTITUTO NAC.DE TECNOLOGIA DA INFORMACAO ITI</td>\n",
       "      <td>Receitas Correntes</td>\n",
       "      <td>Receita de Serviços</td>\n",
       "      <td>Serviços Administrativos e Comerciais Gerais</td>\n",
       "      <td>SERV.DE REGIST.,CERTIF.E FISCALIZ.-PRINCIPAL</td>\n",
       "      <td>0,00</td>\n",
       "      <td>0,00</td>\n",
       "      <td>1000000,00</td>\n",
       "      <td>0,00</td>\n",
       "      <td>23/03/2021</td>\n",
       "      <td>2021</td>\n",
       "    </tr>\n",
       "  </tbody>\n",
       "</table>\n",
       "<p>1026299 rows × 16 columns</p>\n",
       "</div>"
      ],
      "text/plain": [
       "         CODIGO ORGANO SUPERIOR    NOMBRE ORGANO SUPERIOR  CODIGO ORGANO  \\\n",
       "0                         63000  Advocacia-Geral da União          63000   \n",
       "1                         63000  Advocacia-Geral da União          63000   \n",
       "2                         63000  Advocacia-Geral da União          63000   \n",
       "3                         63000  Advocacia-Geral da União          63000   \n",
       "4                         63000  Advocacia-Geral da União          63000   \n",
       "...                         ...                       ...            ...   \n",
       "1026294                   20000  Presidência da República          24208   \n",
       "1026295                   20000  Presidência da República          24208   \n",
       "1026296                   20000  Presidência da República          24208   \n",
       "1026297                   20000  Presidência da República          24208   \n",
       "1026298                   20000  Presidência da República          24208   \n",
       "\n",
       "                                             NOMBRE ORGANO  \\\n",
       "0        Advocacia-Geral da União - Unidades com víncul...   \n",
       "1        Advocacia-Geral da União - Unidades com víncul...   \n",
       "2        Advocacia-Geral da União - Unidades com víncul...   \n",
       "3        Advocacia-Geral da União - Unidades com víncul...   \n",
       "4        Advocacia-Geral da União - Unidades com víncul...   \n",
       "...                                                    ...   \n",
       "1026294     Instituto Nacional de Tecnologia da Informação   \n",
       "1026295     Instituto Nacional de Tecnologia da Informação   \n",
       "1026296     Instituto Nacional de Tecnologia da Informação   \n",
       "1026297     Instituto Nacional de Tecnologia da Informação   \n",
       "1026298     Instituto Nacional de Tecnologia da Informação   \n",
       "\n",
       "         CODIGO UNIDAD GESTORA                          NOMBRE UNIDAD GESTORA  \\\n",
       "0                       110060  COORD. GERAL DE ORC. FIN. E ANAL. CONT. - AGU   \n",
       "1                       110060  COORD. GERAL DE ORC. FIN. E ANAL. CONT. - AGU   \n",
       "2                       110060  COORD. GERAL DE ORC. FIN. E ANAL. CONT. - AGU   \n",
       "3                       110060  COORD. GERAL DE ORC. FIN. E ANAL. CONT. - AGU   \n",
       "4                       110060  COORD. GERAL DE ORC. FIN. E ANAL. CONT. - AGU   \n",
       "...                        ...                                            ...   \n",
       "1026294                 243001  INSTITUTO NAC.DE TECNOLOGIA DA INFORMACAO ITI   \n",
       "1026295                 243001  INSTITUTO NAC.DE TECNOLOGIA DA INFORMACAO ITI   \n",
       "1026296                 243001  INSTITUTO NAC.DE TECNOLOGIA DA INFORMACAO ITI   \n",
       "1026297                 243001  INSTITUTO NAC.DE TECNOLOGIA DA INFORMACAO ITI   \n",
       "1026298                 243001  INSTITUTO NAC.DE TECNOLOGIA DA INFORMACAO ITI   \n",
       "\n",
       "         CATEGORIA ECONOMICA             ORIGEN INGRESO  \\\n",
       "0         Receitas Correntes  Outras Receitas Correntes   \n",
       "1         Receitas Correntes  Outras Receitas Correntes   \n",
       "2         Receitas Correntes  Outras Receitas Correntes   \n",
       "3         Receitas Correntes  Outras Receitas Correntes   \n",
       "4         Receitas Correntes  Outras Receitas Correntes   \n",
       "...                      ...                        ...   \n",
       "1026294  Receitas de Capital       Operações de Crédito   \n",
       "1026295   Receitas Correntes        Receita de Serviços   \n",
       "1026296   Receitas Correntes        Receita de Serviços   \n",
       "1026297   Receitas Correntes        Receita de Serviços   \n",
       "1026298   Receitas Correntes        Receita de Serviços   \n",
       "\n",
       "                                          TIPO INGRESO  \\\n",
       "0        Bens, Direitos e Valores Incorporados ao Patr   \n",
       "1          Indenizações, restituições e ressarcimentos   \n",
       "2        Multas administrativas, contratuais e judicia   \n",
       "3        Bens, Direitos e Valores Incorporados ao Patr   \n",
       "4          Indenizações, restituições e ressarcimentos   \n",
       "...                                                ...   \n",
       "1026294         Operações de crédito - mercado interno   \n",
       "1026295   Serviços Administrativos e Comerciais Gerais   \n",
       "1026296   Serviços Administrativos e Comerciais Gerais   \n",
       "1026297   Serviços Administrativos e Comerciais Gerais   \n",
       "1026298   Serviços Administrativos e Comerciais Gerais   \n",
       "\n",
       "                                               DETALLE  \\\n",
       "0        REC.DIVIDA ATIVA NAO TRIBUTARIA DE OUTRAS REC   \n",
       "1         RECUPERACAO DE DESPESAS DE EXERC. ANTERIORES   \n",
       "2                        OUTRAS MULTAS E JUROS DE MORA   \n",
       "3            REC.DIV.ATIVA POR INFRAÇÃO ADMINISTRATIVA   \n",
       "4                                  OUTRAS RESTITUICOES   \n",
       "...                                                ...   \n",
       "1026294   TITULOS DE RESPONS.TES.NAC.-MERC.INT.-PRINC.   \n",
       "1026295   SERV.DE REGIST.,CERTIF.E FISCALIZ.-PRINCIPAL   \n",
       "1026296   SERV.DE REGIST.,CERTIF.E FISCALIZ.-PRINCIPAL   \n",
       "1026297   SERV.DE REGIST.,CERTIF.E FISCALIZ.-PRINCIPAL   \n",
       "1026298   SERV.DE REGIST.,CERTIF.E FISCALIZ.-PRINCIPAL   \n",
       "\n",
       "        VALOR PREVISTO ACTUALIZADO VALOR REGISTRADO VALOR REALIZADO  \\\n",
       "0                             0,00             0,00         1297,13   \n",
       "1                             0,00             0,00     26666621,42   \n",
       "2                             0,00             0,00       301251,13   \n",
       "3                             0,00             0,00         1855,58   \n",
       "4                             0,00             0,00        52140,68   \n",
       "...                            ...              ...             ...   \n",
       "1026294                16940891,00             0,00            0,00   \n",
       "1026295                       0,00             0,00          372,90   \n",
       "1026296                  200000,00             0,00            0,00   \n",
       "1026297                       0,00             0,00      1000000,00   \n",
       "1026298                       0,00             0,00      1000000,00   \n",
       "\n",
       "        PORCENTAJE REALIZADO       FECHA REGISTRO  AÑO EJERCICIO  \n",
       "0                       0,00  2013-12-31 00:00:00           2013  \n",
       "1                       0,00  2013-12-31 00:00:00           2013  \n",
       "2                       0,00  2013-12-31 00:00:00           2013  \n",
       "3                       0,00  2013-12-31 00:00:00           2013  \n",
       "4                       0,00  2013-12-31 00:00:00           2013  \n",
       "...                      ...                  ...            ...  \n",
       "1026294                 0,00           23/04/2021           2021  \n",
       "1026295                 0,00           22/11/2021           2021  \n",
       "1026296                 0,00           23/04/2021           2021  \n",
       "1026297                 0,00           10/05/2021           2021  \n",
       "1026298                 0,00           23/03/2021           2021  \n",
       "\n",
       "[1026299 rows x 16 columns]"
      ]
     },
     "execution_count": 3,
     "metadata": {},
     "output_type": "execute_result"
    }
   ],
   "source": [
    "df = pd.read_csv('../../../Panda/Laboratorio_Python/df_unido.csv')\n",
    "df"
   ]
  },
  {
   "cell_type": "code",
   "execution_count": 4,
   "metadata": {},
   "outputs": [
    {
     "data": {
      "text/plain": [
       "np.int64(0)"
      ]
     },
     "execution_count": 4,
     "metadata": {},
     "output_type": "execute_result"
    }
   ],
   "source": [
    "# Miro si hay columnas con datos nulos y que me  los muestre\n",
    "df.columns.isnull().sum()"
   ]
  },
  {
   "cell_type": "code",
   "execution_count": 5,
   "metadata": {},
   "outputs": [
    {
     "data": {
      "text/plain": [
       "np.int64(0)"
      ]
     },
     "execution_count": 5,
     "metadata": {},
     "output_type": "execute_result"
    }
   ],
   "source": [
    "# Miro si hay columnas con datos duplicados y  que me los muestre\n",
    "df.columns.duplicated().sum()"
   ]
  },
  {
   "cell_type": "code",
   "execution_count": 6,
   "metadata": {},
   "outputs": [
    {
     "name": "stdout",
     "output_type": "stream",
     "text": [
      "<class 'pandas.core.frame.DataFrame'>\n",
      "RangeIndex: 1026299 entries, 0 to 1026298\n",
      "Data columns (total 16 columns):\n",
      " #   Column                      Non-Null Count    Dtype \n",
      "---  ------                      --------------    ----- \n",
      " 0   CODIGO ORGANO SUPERIOR      1026299 non-null  int64 \n",
      " 1   NOMBRE ORGANO SUPERIOR      1026299 non-null  object\n",
      " 2   CODIGO ORGANO               1026299 non-null  int64 \n",
      " 3   NOMBRE ORGANO               1026299 non-null  object\n",
      " 4   CODIGO UNIDAD GESTORA       1026299 non-null  int64 \n",
      " 5   NOMBRE UNIDAD GESTORA       1026299 non-null  object\n",
      " 6   CATEGORIA ECONOMICA         1026299 non-null  object\n",
      " 7   ORIGEN INGRESO              1026299 non-null  object\n",
      " 8   TIPO INGRESO                1026299 non-null  object\n",
      " 9   DETALLE                     1026299 non-null  object\n",
      " 10  VALOR PREVISTO ACTUALIZADO  1026299 non-null  object\n",
      " 11  VALOR REGISTRADO            1026299 non-null  object\n",
      " 12  VALOR REALIZADO             1026299 non-null  object\n",
      " 13  PORCENTAJE REALIZADO        1026299 non-null  object\n",
      " 14  FECHA REGISTRO              1025721 non-null  object\n",
      " 15  AÑO EJERCICIO               1026299 non-null  int64 \n",
      "dtypes: int64(4), object(12)\n",
      "memory usage: 125.3+ MB\n"
     ]
    }
   ],
   "source": [
    "df.info()"
   ]
  },
  {
   "cell_type": "markdown",
   "metadata": {},
   "source": [
    "### Analizo con Info y veo que los datos monetarios no estan en tipo int por lo que decido cambiarlos.\n"
   ]
  },
  {
   "cell_type": "code",
   "execution_count": 7,
   "metadata": {},
   "outputs": [
    {
     "data": {
      "text/plain": [
       "['VALOR PREVISTO ACTUALIZADO',\n",
       " 'VALOR REGISTRADO',\n",
       " 'VALOR REALIZADO',\n",
       " 'PORCENTAJE REALIZADO']"
      ]
     },
     "execution_count": 7,
     "metadata": {},
     "output_type": "execute_result"
    }
   ],
   "source": [
    "# Convertir las columnas monetarias a tipo numérico\n",
    "columnas_monetarias = ['VALOR PREVISTO ACTUALIZADO', 'VALOR REGISTRADO', 'VALOR REALIZADO', 'PORCENTAJE REALIZADO']\n",
    "columnas_monetarias\n"
   ]
  },
  {
   "cell_type": "code",
   "execution_count": 8,
   "metadata": {},
   "outputs": [],
   "source": [
    "# Eliminar posibles símbolos de moneda y comas, luego convertir a float\n",
    "for col in columnas_monetarias:\n",
    "    df[col] = df[col].replace({r'[^\\d.]': ''}, regex=True).astype(float)\n"
   ]
  },
  {
   "cell_type": "code",
   "execution_count": 10,
   "metadata": {},
   "outputs": [],
   "source": [
    "# Convertir la columna de fecha a tipo datetime\n",
    "#df['FECHA REGISTRO'] = pd.to_datetime(df['FECHA REGISTRO'], errors='coerce')\n",
    "df['FECHA REGISTRO'] = pd.to_datetime(df['FECHA REGISTRO'], format=\"mixed\")"
   ]
  },
  {
   "cell_type": "code",
   "execution_count": 11,
   "metadata": {},
   "outputs": [
    {
     "name": "stdout",
     "output_type": "stream",
     "text": [
      "CODIGO ORGANO SUPERIOR                 int64\n",
      "NOMBRE ORGANO SUPERIOR                object\n",
      "CODIGO ORGANO                          int64\n",
      "NOMBRE ORGANO                         object\n",
      "CODIGO UNIDAD GESTORA                  int64\n",
      "NOMBRE UNIDAD GESTORA                 object\n",
      "CATEGORIA ECONOMICA                   object\n",
      "ORIGEN INGRESO                        object\n",
      "TIPO INGRESO                          object\n",
      "DETALLE                               object\n",
      "VALOR PREVISTO ACTUALIZADO           float64\n",
      "VALOR REGISTRADO                     float64\n",
      "VALOR REALIZADO                      float64\n",
      "PORCENTAJE REALIZADO                 float64\n",
      "FECHA REGISTRO                datetime64[ns]\n",
      "AÑO EJERCICIO                          int64\n",
      "dtype: object\n"
     ]
    }
   ],
   "source": [
    "# Verificar que las conversiones se han realizado correctamente\n",
    "print(df.dtypes)\n",
    "\n",
    "\n",
    "\n"
   ]
  },
  {
   "cell_type": "code",
   "execution_count": 12,
   "metadata": {},
   "outputs": [
    {
     "name": "stdout",
     "output_type": "stream",
     "text": [
      "CODIGO ORGANO SUPERIOR          0\n",
      "NOMBRE ORGANO SUPERIOR          0\n",
      "CODIGO ORGANO                   0\n",
      "NOMBRE ORGANO                   0\n",
      "CODIGO UNIDAD GESTORA           0\n",
      "NOMBRE UNIDAD GESTORA           0\n",
      "CATEGORIA ECONOMICA             0\n",
      "ORIGEN INGRESO                  0\n",
      "TIPO INGRESO                    0\n",
      "DETALLE                         0\n",
      "VALOR PREVISTO ACTUALIZADO      0\n",
      "VALOR REGISTRADO                0\n",
      "VALOR REALIZADO                 0\n",
      "PORCENTAJE REALIZADO            0\n",
      "FECHA REGISTRO                578\n",
      "AÑO EJERCICIO                   0\n",
      "dtype: int64\n"
     ]
    }
   ],
   "source": [
    "# Identifico si hay valores nulos en las columnas.\n",
    "print(df.isnull().sum())  "
   ]
  },
  {
   "cell_type": "code",
   "execution_count": 13,
   "metadata": {},
   "outputs": [
    {
     "data": {
      "text/plain": [
       "0         2013-12-31\n",
       "1         2013-12-31\n",
       "2         2013-12-31\n",
       "3         2013-12-31\n",
       "4         2013-12-31\n",
       "             ...    \n",
       "1026294   2021-04-23\n",
       "1026295   2021-11-22\n",
       "1026296   2021-04-23\n",
       "1026297   2021-10-05\n",
       "1026298   2021-03-23\n",
       "Name: FECHA REGISTRO, Length: 1026299, dtype: datetime64[ns]"
      ]
     },
     "execution_count": 13,
     "metadata": {},
     "output_type": "execute_result"
    }
   ],
   "source": [
    "#### Veo que la columna Fecha de registro tiene 578 valores nulos. \n",
    "valores_unicos = df['FECHA REGISTRO']\n",
    "valores_unicos"
   ]
  },
  {
   "cell_type": "markdown",
   "metadata": {},
   "source": [
    "   - Revisar posibles inconsistencias en las categorías económicas (errores tipográficos, variaciones en los nombres) y unificarlas.\n",
    "\n"
   ]
  },
  {
   "cell_type": "code",
   "execution_count": 14,
   "metadata": {},
   "outputs": [
    {
     "name": "stdout",
     "output_type": "stream",
     "text": [
      "['Receitas Correntes' 'Receitas de Capital'\n",
      " 'Receitas Correntes - intra-orçamentárias' 'Sem informação'\n",
      " 'Receitas de Capital - intra-orçamentárias']\n"
     ]
    }
   ],
   "source": [
    "# Reviso la categoria Economica para ver si hay valores que pueda unificar.\n",
    "categorias_unicas = df['CATEGORIA ECONOMICA'].unique()\n",
    "print(categorias_unicas)\n"
   ]
  },
  {
   "cell_type": "code",
   "execution_count": 15,
   "metadata": {},
   "outputs": [
    {
     "name": "stdout",
     "output_type": "stream",
     "text": [
      "CATEGORIA ECONOMICA\n",
      "Receitas Correntes                           979596\n",
      "Receitas de Capital                           30116\n",
      "Receitas Correntes - intra-orçamentárias      16235\n",
      "Sem informação                                  257\n",
      "Receitas de Capital - intra-orçamentárias        95\n",
      "Name: count, dtype: int64\n"
     ]
    }
   ],
   "source": [
    "# Hago un value counts para revisarla y veo que hay datos que puedo unificar\n",
    "frecuencias = df['CATEGORIA ECONOMICA'].value_counts()\n",
    "print(frecuencias)\n"
   ]
  },
  {
   "cell_type": "code",
   "execution_count": 21,
   "metadata": {},
   "outputs": [],
   "source": [
    "# Cambio los nombres a Receitas corrientes de los valores que he identificado que podia unir.\n",
    "df['CATEGORIA ECONOMICA'] = df['CATEGORIA ECONOMICA'].replace({\n",
    "    'Receitas Correntes': 'Receitas Correntes',\n",
    "    'receitas correntes': 'Receitas Correntes',\n",
    "    'Rec Correntes': 'Receitas Correntes'})\n"
   ]
  },
  {
   "cell_type": "code",
   "execution_count": 25,
   "metadata": {},
   "outputs": [
    {
     "name": "stdout",
     "output_type": "stream",
     "text": [
      "CATEGORIA ECONOMICA\n",
      "RECEITAS CORRENTES                           979596\n",
      "Receitas de Capital                           30116\n",
      "Receitas Correntes - intra-orçamentárias      16235\n",
      "Sem informação                                  257\n",
      "Receitas de Capital - intra-orçamentárias        95\n",
      "Name: count, dtype: int64\n"
     ]
    }
   ],
   "source": [
    "# Hago un print para comprobar que se me han quedado menos valores unicos.\n",
    "print(df['CATEGORIA ECONOMICA'].value_counts())\n"
   ]
  },
  {
   "cell_type": "markdown",
   "metadata": {},
   "source": [
    "   - Analizar las categorías de ingresos más significativas y su participación en los ingresos totales.\n"
   ]
  },
  {
   "cell_type": "code",
   "execution_count": 27,
   "metadata": {},
   "outputs": [
    {
     "data": {
      "text/html": [
       "<div>\n",
       "<style scoped>\n",
       "    .dataframe tbody tr th:only-of-type {\n",
       "        vertical-align: middle;\n",
       "    }\n",
       "\n",
       "    .dataframe tbody tr th {\n",
       "        vertical-align: top;\n",
       "    }\n",
       "\n",
       "    .dataframe thead th {\n",
       "        text-align: right;\n",
       "    }\n",
       "</style>\n",
       "<table border=\"1\" class=\"dataframe\">\n",
       "  <thead>\n",
       "    <tr style=\"text-align: right;\">\n",
       "      <th></th>\n",
       "      <th>CATEGORIA ECONOMICA</th>\n",
       "      <th>VALOR REALIZADO</th>\n",
       "    </tr>\n",
       "  </thead>\n",
       "  <tbody>\n",
       "    <tr>\n",
       "      <th>0</th>\n",
       "      <td>RECEITAS CORRENTES</td>\n",
       "      <td>1.433421e+15</td>\n",
       "    </tr>\n",
       "    <tr>\n",
       "      <th>1</th>\n",
       "      <td>Receitas Correntes - intra-orçamentárias</td>\n",
       "      <td>2.928975e+13</td>\n",
       "    </tr>\n",
       "    <tr>\n",
       "      <th>2</th>\n",
       "      <td>Receitas de Capital</td>\n",
       "      <td>1.278346e+15</td>\n",
       "    </tr>\n",
       "    <tr>\n",
       "      <th>3</th>\n",
       "      <td>Receitas de Capital - intra-orçamentárias</td>\n",
       "      <td>2.826909e+12</td>\n",
       "    </tr>\n",
       "    <tr>\n",
       "      <th>4</th>\n",
       "      <td>Sem informação</td>\n",
       "      <td>4.657000e+03</td>\n",
       "    </tr>\n",
       "  </tbody>\n",
       "</table>\n",
       "</div>"
      ],
      "text/plain": [
       "                         CATEGORIA ECONOMICA  VALOR REALIZADO\n",
       "0                         RECEITAS CORRENTES     1.433421e+15\n",
       "1   Receitas Correntes - intra-orçamentárias     2.928975e+13\n",
       "2                        Receitas de Capital     1.278346e+15\n",
       "3  Receitas de Capital - intra-orçamentárias     2.826909e+12\n",
       "4                             Sem informação     4.657000e+03"
      ]
     },
     "execution_count": 27,
     "metadata": {},
     "output_type": "execute_result"
    }
   ],
   "source": [
    "# Hago un analisis sobre la categoria economica y el valor realizado.\n",
    "ingresos_por_categoria = df.groupby('CATEGORIA ECONOMICA')['VALOR REALIZADO'].sum().reset_index()\n",
    "ingresos_por_categoria"
   ]
  },
  {
   "cell_type": "code",
   "execution_count": 30,
   "metadata": {},
   "outputs": [
    {
     "data": {
      "text/html": [
       "<div>\n",
       "<style scoped>\n",
       "    .dataframe tbody tr th:only-of-type {\n",
       "        vertical-align: middle;\n",
       "    }\n",
       "\n",
       "    .dataframe tbody tr th {\n",
       "        vertical-align: top;\n",
       "    }\n",
       "\n",
       "    .dataframe thead th {\n",
       "        text-align: right;\n",
       "    }\n",
       "</style>\n",
       "<table border=\"1\" class=\"dataframe\">\n",
       "  <thead>\n",
       "    <tr style=\"text-align: right;\">\n",
       "      <th></th>\n",
       "      <th>CATEGORIA ECONOMICA</th>\n",
       "      <th>VALOR REALIZADO</th>\n",
       "      <th>PARTICIPACION</th>\n",
       "    </tr>\n",
       "  </thead>\n",
       "  <tbody>\n",
       "    <tr>\n",
       "      <th>0</th>\n",
       "      <td>RECEITAS CORRENTES</td>\n",
       "      <td>1.433421e+15</td>\n",
       "      <td>5.224058e+01</td>\n",
       "    </tr>\n",
       "    <tr>\n",
       "      <th>1</th>\n",
       "      <td>Receitas Correntes - intra-orçamentárias</td>\n",
       "      <td>2.928975e+13</td>\n",
       "      <td>1.067456e+00</td>\n",
       "    </tr>\n",
       "    <tr>\n",
       "      <th>2</th>\n",
       "      <td>Receitas de Capital</td>\n",
       "      <td>1.278346e+15</td>\n",
       "      <td>4.658894e+01</td>\n",
       "    </tr>\n",
       "    <tr>\n",
       "      <th>3</th>\n",
       "      <td>Receitas de Capital - intra-orçamentárias</td>\n",
       "      <td>2.826909e+12</td>\n",
       "      <td>1.030258e-01</td>\n",
       "    </tr>\n",
       "    <tr>\n",
       "      <th>4</th>\n",
       "      <td>Sem informação</td>\n",
       "      <td>4.657000e+03</td>\n",
       "      <td>1.697229e-10</td>\n",
       "    </tr>\n",
       "  </tbody>\n",
       "</table>\n",
       "</div>"
      ],
      "text/plain": [
       "                         CATEGORIA ECONOMICA  VALOR REALIZADO  PARTICIPACION\n",
       "0                         RECEITAS CORRENTES     1.433421e+15   5.224058e+01\n",
       "1   Receitas Correntes - intra-orçamentárias     2.928975e+13   1.067456e+00\n",
       "2                        Receitas de Capital     1.278346e+15   4.658894e+01\n",
       "3  Receitas de Capital - intra-orçamentárias     2.826909e+12   1.030258e-01\n",
       "4                             Sem informação     4.657000e+03   1.697229e-10"
      ]
     },
     "execution_count": 30,
     "metadata": {},
     "output_type": "execute_result"
    }
   ],
   "source": [
    "# Aqui hago una suma de los valores realizados y luego creo una columna nueva y hago la particion para que me saque los valores dividos los ingresos totales.\n",
    "ingresos_totales = ingresos_por_categoria['VALOR REALIZADO'].sum()\n",
    "ingresos_por_categoria['PARTICIPACION'] = (ingresos_por_categoria['VALOR REALIZADO'] / ingresos_totales) * 100\n",
    "ingresos_por_categoria"
   ]
  },
  {
   "cell_type": "code",
   "execution_count": 31,
   "metadata": {},
   "outputs": [
    {
     "name": "stdout",
     "output_type": "stream",
     "text": [
      "                         CATEGORIA ECONOMICA  VALOR REALIZADO  PARTICIPACION\n",
      "0                         RECEITAS CORRENTES     1.433421e+15   5.224058e+01\n",
      "2                        Receitas de Capital     1.278346e+15   4.658894e+01\n",
      "1   Receitas Correntes - intra-orçamentárias     2.928975e+13   1.067456e+00\n",
      "3  Receitas de Capital - intra-orçamentárias     2.826909e+12   1.030258e-01\n",
      "4                             Sem informação     4.657000e+03   1.697229e-10\n"
     ]
    }
   ],
   "source": [
    "# Aqui ordeno de mayor a menor para que para que muestre mejor los resultados.\n",
    "ingresos_por_categoria = ingresos_por_categoria.sort_values(by='VALOR REALIZADO', ascending=False)\n",
    "print(ingresos_por_categoria)\n",
    "\n"
   ]
  },
  {
   "cell_type": "code",
   "execution_count": 32,
   "metadata": {},
   "outputs": [],
   "source": [
    "import matplotlib.pyplot as plt\n"
   ]
  },
  {
   "cell_type": "code",
   "execution_count": 33,
   "metadata": {},
   "outputs": [
    {
     "data": {
      "image/png": "[encoded data removed]",
      "text/plain": [
       "<Figure size 1000x600 with 1 Axes>"
      ]
     },
     "metadata": {},
     "output_type": "display_data"
    }
   ],
   "source": [
    "# Hago un grafico para representar la diferencia entre los diferentes ingresos por categoria.\n",
    "\n",
    "plt.figure(figsize=(10, 6))\n",
    "plt.barh(ingresos_por_categoria['CATEGORIA ECONOMICA'], ingresos_por_categoria['VALOR REALIZADO'], color='skyblue')\n",
    "plt.xlabel(\"Valor Realizado\")\n",
    "plt.ylabel(\"Categoría Económica\")\n",
    "plt.title(\"Ingresos por Categoría Económica\")\n",
    "plt.gca().invert_yaxis()\n",
    "plt.show()"
   ]
  }
 ],
 "metadata": {
  "kernelspec": {
   "display_name": "Python 3",
   "language": "python",
   "name": "python3"
  },
  "language_info": {
   "codemirror_mode": {
    "name": "ipython",
    "version": 3
   },
   "file_extension": ".py",
   "mimetype": "text/x-python",
   "name": "python",
   "nbconvert_exporter": "python",
   "pygments_lexer": "ipython3",
   "version": "3.11.4"
  }
 },
 "nbformat": 4,
 "nbformat_minor": 2
}
